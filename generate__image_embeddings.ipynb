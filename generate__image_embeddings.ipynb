{
  "nbformat": 4,
  "nbformat_minor": 0,
  "metadata": {
    "colab": {
      "provenance": [],
      "gpuType": "T4"
    },
    "kernelspec": {
      "name": "python3",
      "display_name": "Python 3"
    },
    "language_info": {
      "name": "python"
    },
    "accelerator": "GPU"
  },
  "cells": [
    {
      "cell_type": "code",
      "execution_count": 1,
      "metadata": {
        "id": "NMlzBKqFcCB0"
      },
      "outputs": [],
      "source": [
        "import os\n",
        "os.environ['KERAS_BACKEND']='tensorflow'\n",
        "import keras"
      ]
    },
    {
      "cell_type": "code",
      "source": [
        "from keras import datasets"
      ],
      "metadata": {
        "id": "5CcydloZcta1"
      },
      "execution_count": 3,
      "outputs": []
    },
    {
      "cell_type": "code",
      "source": [
        "(x_train,y_train),(x_test,y_test)=datasets.mnist.load_data()"
      ],
      "metadata": {
        "colab": {
          "base_uri": "https://localhost:8080/"
        },
        "id": "mC4j4iEwcyol",
        "outputId": "3d43a6b7-60e4-4668-b3ed-0e139b951c32"
      },
      "execution_count": 5,
      "outputs": [
        {
          "output_type": "stream",
          "name": "stdout",
          "text": [
            "Downloading data from https://storage.googleapis.com/tensorflow/tf-keras-datasets/mnist.npz\n",
            "11490434/11490434 [==============================] - 0s 0us/step\n"
          ]
        }
      ]
    },
    {
      "cell_type": "code",
      "source": [
        "print('X_train.shape',x_train.shape)\n",
        "print('y_train.shape',y_train.shape)"
      ],
      "metadata": {
        "colab": {
          "base_uri": "https://localhost:8080/"
        },
        "id": "2HmjypHkdB7R",
        "outputId": "74522ff8-5fa7-4fe8-f847-ea25d49e29a0"
      },
      "execution_count": 6,
      "outputs": [
        {
          "output_type": "stream",
          "name": "stdout",
          "text": [
            "X_train.shape (60000, 28, 28)\n",
            "y_train.shape (60000,)\n"
          ]
        }
      ]
    },
    {
      "cell_type": "markdown",
      "source": [
        "Displying images with labels\n",
        "\n",
        "\n",
        "\n",
        "\n",
        "\n"
      ],
      "metadata": {
        "id": "FiWyIX6aeF7-"
      }
    },
    {
      "cell_type": "code",
      "source": [
        "import matplotlib.pyplot as plt\n",
        "for i in range(10):\n",
        "  plt.subplot(1,10,i+1)\n",
        "  plt.imshow(x_train[i],cmap='gray')\n",
        "  plt.title(y_train[i])\n",
        "  plt.axis('off')\n"
      ],
      "metadata": {
        "colab": {
          "base_uri": "https://localhost:8080/",
          "height": 101
        },
        "id": "dqXHxxaHdVUE",
        "outputId": "239e0465-51fc-4224-8be2-cea0d66f5707"
      },
      "execution_count": 7,
      "outputs": [
        {
          "output_type": "display_data",
          "data": {
            "text/plain": [
              "<Figure size 640x480 with 10 Axes>"
            ],
            "image/png": "[encoded data removed]"
          },
          "metadata": {}
        }
      ]
    },
    {
      "cell_type": "markdown",
      "source": [
        "We want to create a neural network that works receives every pixel of the image as input so we need to reshape the data to have a signle array with 28 X 28 =784 pixels"
      ],
      "metadata": {
        "id": "WPqXNu0YfY8k"
      }
    },
    {
      "cell_type": "code",
      "source": [
        "x_train=x_train.reshape(-1,784)\n",
        "x_test=x_test.reshape(-1,784)\n",
        "print('x_train shape',x_train.shape)\n",
        "print('x_test shape',x_test.shape)"
      ],
      "metadata": {
        "colab": {
          "base_uri": "https://localhost:8080/"
        },
        "id": "46nYmfzXfYmc",
        "outputId": "cc0e9910-d0b1-4487-bd9c-59a9828aea7d"
      },
      "execution_count": 8,
      "outputs": [
        {
          "output_type": "stream",
          "name": "stdout",
          "text": [
            "x_train shape (60000, 784)\n",
            "x_test shape (10000, 784)\n"
          ]
        }
      ]
    },
    {
      "cell_type": "markdown",
      "source": [
        "We now normalize the pixel values to a range between 0 and 1 (instead of 0 to 255) we can use min-max normaizaion"
      ],
      "metadata": {
        "id": "Anm0wvbTgw1s"
      }
    },
    {
      "cell_type": "code",
      "source": [
        "x_train=x_train/255.0\n",
        "x_test=x_test/255.0"
      ],
      "metadata": {
        "id": "ZJDgj1_tetr8"
      },
      "execution_count": 9,
      "outputs": []
    },
    {
      "cell_type": "markdown",
      "source": [
        "We'll train a Siamese Network using positive and negative pairs of images. A positive pair consists of two images representing the same digit, while a negative pair consists of two images representing different digits."
      ],
      "metadata": {
        "id": "q-x58dK6jxCG"
      }
    },
    {
      "cell_type": "code",
      "source": [
        "import numpy as np\n"
      ],
      "metadata": {
        "id": "G5LAHBKfhE6O"
      },
      "execution_count": 11,
      "outputs": []
    },
    {
      "cell_type": "code",
      "source": [
        "def generate_pairs(x,y):\n",
        "  x_pairs=[]\n",
        "  y_pairs=[]\n",
        "  for i in range (len(x)):\n",
        "    digit=y[i]\n",
        "    positive_digit_index=np.random.choice(np.where(y==digit)[0])\n",
        "    x_pairs.append([x[i],x[positive_digit_index]])\n",
        "    y_pairs.append([0])\n",
        "\n",
        "    negative_digit_index=np.random.choice(np.where(y!=digit)[0])\n",
        "    x_pairs.append([x[i],x[negative_digit_index]])\n",
        "    y_pairs.append([1])\n",
        "\n",
        "\n",
        "  indicies = np.arange(len(x_pairs))\n",
        "  np.random.shuffle(indicies)\n",
        "  return np.array(x_pairs)[indicies], np.array(y_pairs)[indicies]"
      ],
      "metadata": {
        "id": "7sAs2VLlhGk3"
      },
      "execution_count": 16,
      "outputs": []
    },
    {
      "cell_type": "markdown",
      "source": [
        "Let's generate the pairs for training and testing the model:"
      ],
      "metadata": {
        "id": "9Lo32NCFmdz6"
      }
    },
    {
      "cell_type": "code",
      "source": [
        "x_train_pairs, y_train_pairs = generate_pairs(x_train, y_train)\n",
        "x_test_pairs, y_test_pairs = generate_pairs(x_test, y_test)\n",
        "\n",
        "print(\"X_train_pairs shape:\", x_train_pairs.shape)\n",
        "print(\"X_test_pairs shape:\",x_test_pairs.shape)"
      ],
      "metadata": {
        "colab": {
          "base_uri": "https://localhost:8080/"
        },
        "id": "iYBMhMz5mbS6",
        "outputId": "d4ef84ab-b530-48f5-bb24-5c4e6f9be38f"
      },
      "execution_count": 17,
      "outputs": [
        {
          "output_type": "stream",
          "name": "stdout",
          "text": [
            "X_train_pairs shape: (120000, 2, 784)\n",
            "X_test_pairs shape: (20000, 2, 784)\n"
          ]
        }
      ]
    },
    {
      "cell_type": "markdown",
      "source": [
        "Let's display some of these pairs to ensure they were generated correctly:"
      ],
      "metadata": {
        "id": "j3dnBcJFnE0h"
      }
    },
    {
      "cell_type": "code",
      "source": [
        "def display_pairs(X, y, correct=None):\n",
        "    \"\"\"\n",
        "    Displays the first ten pairs from the supplied array.\n",
        "\n",
        "    Args:\n",
        "        - X: An array containing the image pairs.\n",
        "        - y: An array containing the corresponding label (0 if both\n",
        "            pairs are the same, and 1 if both pairs are different.)\n",
        "        - correct (optional): An array of boolean values indicating whether\n",
        "            the supplied labels correctly represent the image pairs.\n",
        "    \"\"\"\n",
        "\n",
        "    n = 10\n",
        "\n",
        "    plt.figure(figsize=(20, 6))\n",
        "    for i, (image1, image2) in enumerate(zip(X[:n, 0], X[:n, 1])):\n",
        "        label = int(y[:n][i][0])\n",
        "\n",
        "        text = \"Positive\" if label == 0 else \"Negative\"\n",
        "        color = \"silver\"\n",
        "\n",
        "        # If we know whether the supplied labels are correct, let's change the\n",
        "        # text and the face color of the annotation on the chart.\n",
        "        if correct is not None:\n",
        "            text = \"Same\" if label == 0 else \"Different\"\n",
        "            color = \"mediumseagreen\" if correct[:n][i][0] else \"indianred\"\n",
        "\n",
        "        ax = plt.subplot(3, n, i + 1)\n",
        "        ax.text(\n",
        "            1,\n",
        "            -3,\n",
        "            text,\n",
        "            style=\"italic\",\n",
        "            bbox={\"facecolor\": color, \"pad\": 4},\n",
        "        )\n",
        "\n",
        "        plt.imshow(image1.reshape(28, 28), cmap=\"gray\")\n",
        "        plt.axis(\"off\")\n",
        "\n",
        "        ax = plt.subplot(3, n, i + 1 + n)\n",
        "        plt.imshow(image2.reshape(28, 28), cmap=\"gray\")\n",
        "        plt.axis(\"off\")\n",
        "\n",
        "    plt.show()\n",
        "\n",
        "\n",
        "display_pairs(x_train_pairs, y_train_pairs)"
      ],
      "metadata": {
        "colab": {
          "base_uri": "https://localhost:8080/",
          "height": 338
        },
        "id": "2ZKEnUO4mk1-",
        "outputId": "f4e042f7-f795-401e-d88d-14a6d0833d18"
      },
      "execution_count": 19,
      "outputs": [
        {
          "output_type": "display_data",
          "data": {
            "text/plain": [
              "<Figure size 2000x600 with 20 Axes>"
            ],
            "image/png": "[encoded data removed]"
          },
          "metadata": {}
        }
      ]
    },
    {
      "cell_type": "markdown",
      "source": [
        "building the model\n"
      ],
      "metadata": {
        "id": "sFnq0VT9oIKK"
      }
    },
    {
      "cell_type": "code",
      "source": [
        "from keras import Input\n",
        "import numpy as np\n",
        "from keras.layers import Layer\n",
        "from keras import backend as K\n"
      ],
      "metadata": {
        "id": "Ygk0V22FnLMC"
      },
      "execution_count": 35,
      "outputs": []
    },
    {
      "cell_type": "code",
      "source": [
        "class EuclideanDistance(Layer):\n",
        "  \"\"\"\n",
        "  Compute the euclidean distance (norm) of the output of\n",
        "  the twin networks.\n",
        "  \"\"\"\n",
        "  def __init__(self, **kwargs):\n",
        "    super(EuclideanDistance, self).__init__(**kwargs)\n",
        "\n",
        "  def call(self, twins):\n",
        "    \"\"\"\n",
        "    Compute the euclidean distance (norm) of the output of\n",
        "    the twin networks.\n",
        "    \"\"\"\n",
        "    twin1_output, twin2_output = twins\n",
        "    return K.sqrt(K.sum(K.square(twin1_output - twin2_output), axis=1, keepdims=True))\n"
      ],
      "metadata": {
        "id": "1ZM3qodWswtw"
      },
      "execution_count": 36,
      "outputs": []
    },
    {
      "cell_type": "code",
      "source": [
        "input1=Input(shape=(784,))\n",
        "input2=Input(shape=(784,))\n"
      ],
      "metadata": {
        "id": "MvI4NFnboOAu"
      },
      "execution_count": 21,
      "outputs": []
    },
    {
      "cell_type": "markdown",
      "source": [
        "Then, we can build the body of the Siamese Network. This network will be responsible of generating the embeddings for each of the input images:"
      ],
      "metadata": {
        "id": "YAM0fZl5oeyQ"
      }
    },
    {
      "cell_type": "code",
      "source": [
        "from keras.layers import Dense\n",
        "from keras.models import Sequential"
      ],
      "metadata": {
        "id": "tq5ghN7Wob3S"
      },
      "execution_count": 24,
      "outputs": []
    },
    {
      "cell_type": "code",
      "source": [
        "network= Sequential(\n",
        "    [\n",
        "        Input(shape=(784,)),\n",
        "        Dense(512,activation='relu'),\n",
        "        Dense(256,activation='relu'),\n",
        "        Dense(128,activation=None),\n",
        "    ]\n",
        ")"
      ],
      "metadata": {
        "id": "ejblrudXorpH"
      },
      "execution_count": 26,
      "outputs": []
    },
    {
      "cell_type": "markdown",
      "source": [
        "Our network will have two branches, each one responsible for processing one of the images in the pair. We want to share the same weights between the branches, so we'll use the same network instance:"
      ],
      "metadata": {
        "id": "nEXrByT0pVyf"
      }
    },
    {
      "cell_type": "code",
      "source": [
        "twin1=network(input1)\n",
        "twin2=network(input2)\n"
      ],
      "metadata": {
        "id": "JAV5eh7fpMFs"
      },
      "execution_count": 27,
      "outputs": []
    },
    {
      "cell_type": "markdown",
      "source": [
        "The output of the Siamese Network will be the distance between the embeddings of the two images. To do this, we can use a Lambda layer to calculate the Euclidean distance between the embeddings:"
      ],
      "metadata": {
        "id": "qi7kkMHUrB7E"
      }
    },
    {
      "cell_type": "code",
      "source": [
        "# Calculate the distance using the custom layer\n",
        "distance = EuclideanDistance()([twin1, twin2])"
      ],
      "metadata": {
        "id": "_YijvZugtQEx"
      },
      "execution_count": 38,
      "outputs": []
    },
    {
      "cell_type": "code",
      "source": [
        "from keras import Model\n",
        "\n",
        "model = Model(inputs=[input1, input2], outputs=distance)"
      ],
      "metadata": {
        "id": "sz-tIcJTrOUN"
      },
      "execution_count": 39,
      "outputs": []
    },
    {
      "cell_type": "code",
      "source": [
        "from tensorflow.keras import backend as K\n",
        "\n",
        "def contrastive_loss(y, d):\n",
        "    \"\"\"\n",
        "    Compute the contrastive loss introduced by Yann LeCun et al. in the paper\n",
        "    \"Dimensionality Reduction by Learning an Invariant Mapping.\"\n",
        "    \"\"\"\n",
        "\n",
        "    margin = 1\n",
        "    y = K.cast(y, d.dtype)\n",
        "\n",
        "    loss = (1 - y) / 2 * K.square(d) + y / 2 * K.square(K.maximum(0.0, margin - d))\n",
        "\n",
        "    return loss"
      ],
      "metadata": {
        "id": "Q004YWydtA4G"
      },
      "execution_count": 41,
      "outputs": []
    },
    {
      "cell_type": "code",
      "source": [
        "from keras.metrics import binary_accuracy\n",
        "\n",
        "model.compile(loss=contrastive_loss, optimizer=\"adam\", metrics=[binary_accuracy])"
      ],
      "metadata": {
        "id": "dIL43fWgtaAJ"
      },
      "execution_count": 42,
      "outputs": []
    },
    {
      "cell_type": "code",
      "source": [
        "keras.utils.plot_model(\n",
        "    model, to_file=\"model.png\", show_shapes=True, show_layer_names=False\n",
        ")"
      ],
      "metadata": {
        "colab": {
          "base_uri": "https://localhost:8080/",
          "height": 312
        },
        "id": "OaWq6suMtugs",
        "outputId": "30bc59d4-0d2a-414d-88af-0991be05c454"
      },
      "execution_count": 43,
      "outputs": [
        {
          "output_type": "execute_result",
          "data": {
            "image/png": "[encoded data removed]",
            "text/plain": [
              "<IPython.core.display.Image object>"
            ]
          },
          "metadata": {},
          "execution_count": 43
        }
      ]
    },
    {
      "cell_type": "code",
      "source": [
        "history = model.fit(\n",
        "    x=[x_train_pairs[:, 0], x_train_pairs[:, 1]],\n",
        "    y=y_train_pairs[:],\n",
        "    validation_data=([x_test_pairs[:, 0], x_test_pairs[:, 1]], y_test_pairs[:]),\n",
        "    batch_size=32,\n",
        "    epochs=5,\n",
        ")"
      ],
      "metadata": {
        "colab": {
          "base_uri": "https://localhost:8080/"
        },
        "id": "hBmkufILtw1U",
        "outputId": "d0866057-71bb-47c5-8779-83db0e393489"
      },
      "execution_count": 44,
      "outputs": [
        {
          "output_type": "stream",
          "name": "stdout",
          "text": [
            "Epoch 1/5\n",
            "3750/3750 [==============================] - 20s 4ms/step - loss: 0.0326 - binary_accuracy: 0.9329 - val_loss: 0.0234 - val_binary_accuracy: 0.9577\n",
            "Epoch 2/5\n",
            "3750/3750 [==============================] - 13s 4ms/step - loss: 0.0174 - binary_accuracy: 0.9748 - val_loss: 0.0203 - val_binary_accuracy: 0.9627\n",
            "Epoch 3/5\n",
            "3750/3750 [==============================] - 13s 4ms/step - loss: 0.0129 - binary_accuracy: 0.9846 - val_loss: 0.0178 - val_binary_accuracy: 0.9683\n",
            "Epoch 4/5\n",
            "3750/3750 [==============================] - 14s 4ms/step - loss: 0.0102 - binary_accuracy: 0.9890 - val_loss: 0.0177 - val_binary_accuracy: 0.9676\n",
            "Epoch 5/5\n",
            "3750/3750 [==============================] - 16s 4ms/step - loss: 0.0086 - binary_accuracy: 0.9919 - val_loss: 0.0165 - val_binary_accuracy: 0.9696\n"
          ]
        }
      ]
    },
    {
      "cell_type": "code",
      "source": [
        "plt.plot(history.history[\"loss\"])\n",
        "plt.plot(history.history[\"val_loss\"])\n",
        "plt.title(\"Training and Validation Loss\")\n",
        "plt.ylabel(\"loss\")\n",
        "plt.xlabel(\"epoch\")\n",
        "plt.legend([\"train\", \"val\"], loc=\"upper right\")\n",
        "plt.show()"
      ],
      "metadata": {
        "colab": {
          "base_uri": "https://localhost:8080/",
          "height": 472
        },
        "id": "8dQ-RwBlt4Ae",
        "outputId": "26189f8a-4a84-4263-a7e5-71eae8adbe72"
      },
      "execution_count": 45,
      "outputs": [
        {
          "output_type": "display_data",
          "data": {
            "text/plain": [
              "<Figure size 640x480 with 1 Axes>"
            ],
            "image/png": "[encoded data removed]"
          },
          "metadata": {}
        }
      ]
    },
    {
      "cell_type": "code",
      "source": [
        "predictions = model.predict([x_test_pairs[:, 0], x_test_pairs[:, 1]]) >= 0.5\n",
        "display_pairs(x_test_pairs, predictions, predictions == y_test_pairs)"
      ],
      "metadata": {
        "colab": {
          "base_uri": "https://localhost:8080/",
          "height": 355
        },
        "id": "7psTVG8ouWkI",
        "outputId": "c7b6479c-3ec0-432e-f4d6-a99791803171"
      },
      "execution_count": 47,
      "outputs": [
        {
          "output_type": "stream",
          "name": "stdout",
          "text": [
            "625/625 [==============================] - 1s 2ms/step\n"
          ]
        },
        {
          "output_type": "display_data",
          "data": {
            "text/plain": [
              "<Figure size 2000x600 with 20 Axes>"
            ],
            "image/png": "[encoded data removed]"
          },
          "metadata": {}
        }
      ]
    },
    {
      "cell_type": "code",
      "source": [
        "accuracy = keras.metrics.BinaryAccuracy()\n",
        "accuracy.update_state(y_test_pairs, predictions.astype(int))\n",
        "print(f\"Accuracy: {accuracy.result().numpy():.2f}\")"
      ],
      "metadata": {
        "colab": {
          "base_uri": "https://localhost:8080/"
        },
        "id": "RovC2FJfuPmG",
        "outputId": "da50293d-cd2c-45b6-83fe-0ab9994951fb"
      },
      "execution_count": 48,
      "outputs": [
        {
          "output_type": "stream",
          "name": "stdout",
          "text": [
            "Accuracy: 0.97\n"
          ]
        }
      ]
    },
    {
      "cell_type": "markdown",
      "source": [
        "These are the different layers of the model we trained"
      ],
      "metadata": {
        "id": "4pXlDamVuih7"
      }
    },
    {
      "cell_type": "code",
      "source": [
        "model.layers"
      ],
      "metadata": {
        "colab": {
          "base_uri": "https://localhost:8080/"
        },
        "id": "KW8NzF9duSBv",
        "outputId": "2010ea1a-0e57-4e64-88a2-d9d555ff5f70"
      },
      "execution_count": 49,
      "outputs": [
        {
          "output_type": "execute_result",
          "data": {
            "text/plain": [
              "[<keras.src.engine.input_layer.InputLayer at 0x7975e752f1c0>,\n",
              " <keras.src.engine.input_layer.InputLayer at 0x7975e75353c0>,\n",
              " <keras.src.engine.sequential.Sequential at 0x7975e2ebf820>,\n",
              " <__main__.EuclideanDistance at 0x7975e7534610>]"
            ]
          },
          "metadata": {},
          "execution_count": 49
        }
      ]
    },
    {
      "cell_type": "markdown",
      "source": [
        "We can reference the sequential model to generate embeddings for new images"
      ],
      "metadata": {
        "id": "m2bGuW-aurLf"
      }
    },
    {
      "cell_type": "code",
      "source": [
        "embedding_model = model.layers[2]"
      ],
      "metadata": {
        "id": "EJJUoIF4urf5"
      },
      "execution_count": 50,
      "outputs": []
    },
    {
      "cell_type": "markdown",
      "source": [
        "Let's select two random images representing the digit 3, and one image representing the digit 7:"
      ],
      "metadata": {
        "id": "uimUZaFxux86"
      }
    },
    {
      "cell_type": "code",
      "source": [
        "digits = np.where(y_test == 3)[0]\n",
        "index1 = np.random.choice(digits)\n",
        "index2 = np.random.choice(digits)\n",
        "index3 = np.random.choice(np.where(y_test == 7)[0])\n",
        "\n",
        "index1, index2, index3"
      ],
      "metadata": {
        "colab": {
          "base_uri": "https://localhost:8080/"
        },
        "id": "FOXqyfWfuxwF",
        "outputId": "38791ce3-c2b9-49c3-ec57-88c703896fc2"
      },
      "execution_count": 51,
      "outputs": [
        {
          "output_type": "execute_result",
          "data": {
            "text/plain": [
              "(925, 2893, 3184)"
            ]
          },
          "metadata": {},
          "execution_count": 51
        }
      ]
    },
    {
      "cell_type": "markdown",
      "source": [
        "We can generate the embeddings for these 3 images:"
      ],
      "metadata": {
        "id": "bbRyu06Pu4h_"
      }
    },
    {
      "cell_type": "code",
      "source": [
        "embedding1 = embedding_model.predict(x_test[index1].reshape(1, -1))\n",
        "embedding2 = embedding_model.predict(x_test[index2].reshape(1, -1))\n",
        "embedding3 = embedding_model.predict(x_test[index3].reshape(1, -1))"
      ],
      "metadata": {
        "colab": {
          "base_uri": "https://localhost:8080/"
        },
        "id": "EHot44i3utXC",
        "outputId": "3fb7e1be-acc0-4ced-c572-1bc00a2fafde"
      },
      "execution_count": 52,
      "outputs": [
        {
          "output_type": "stream",
          "name": "stdout",
          "text": [
            "1/1 [==============================] - 0s 100ms/step\n",
            "1/1 [==============================] - 0s 28ms/step\n",
            "1/1 [==============================] - 0s 45ms/step\n"
          ]
        }
      ]
    },
    {
      "cell_type": "markdown",
      "source": [
        "The distance between the embeddings of the two images representing the digit 3 should be really small (close to 0):"
      ],
      "metadata": {
        "id": "-kqS8idqvDB-"
      }
    },
    {
      "cell_type": "code",
      "source": [
        "import numpy as np\n",
        "from numpy.linalg import norm\n",
        "norm(embedding1 - embedding2)"
      ],
      "metadata": {
        "colab": {
          "base_uri": "https://localhost:8080/"
        },
        "id": "U84HatSbu-Ck",
        "outputId": "3a0adbdd-a927-499e-c2ce-792f2d9d23b1"
      },
      "execution_count": 57,
      "outputs": [
        {
          "output_type": "execute_result",
          "data": {
            "text/plain": [
              "0.06702038"
            ]
          },
          "metadata": {},
          "execution_count": 57
        }
      ]
    },
    {
      "cell_type": "markdown",
      "source": [
        "The distances between the embeddings of the images representing the digit 3 and the image representing the digit 7 should be large (close to 1):"
      ],
      "metadata": {
        "id": "7JTJuMZxwGas"
      }
    },
    {
      "cell_type": "code",
      "source": [
        "norm(embedding1 - embedding3), norm(embedding2 - embedding3)"
      ],
      "metadata": {
        "colab": {
          "base_uri": "https://localhost:8080/"
        },
        "id": "nrzIQ2FOvUuW",
        "outputId": "ea66bccc-5898-46f5-8e88-96cbde26063e"
      },
      "execution_count": 58,
      "outputs": [
        {
          "output_type": "execute_result",
          "data": {
            "text/plain": [
              "(1.0816343, 1.050107)"
            ]
          },
          "metadata": {},
          "execution_count": 58
        }
      ]
    },
    {
      "cell_type": "code",
      "source": [],
      "metadata": {
        "id": "HjMJH0yywO8z"
      },
      "execution_count": null,
      "outputs": []
    }
  ]
}